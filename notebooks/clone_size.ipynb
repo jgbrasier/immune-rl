{
 "cells": [
  {
   "cell_type": "code",
   "execution_count": null,
   "metadata": {},
   "outputs": [],
   "source": [
    "import os\n",
    "import sys\n",
    "import json\n",
    "import numpy as np\n",
    "import matplotlib.pyplot as plt"
   ]
  },
  {
   "cell_type": "code",
   "execution_count": null,
   "metadata": {},
   "outputs": [],
   "source": [
    "sys.path.insert(0, os.getcwd())"
   ]
  },
  {
   "cell_type": "code",
   "execution_count": null,
   "metadata": {},
   "outputs": [],
   "source": [
    "# load last trial\n",
    "logdir = '../logs'\n",
    "trials = sorted(os.listdir(logdir))\n",
    "\n",
    "def load_trials(logdir: str, trial_name: str) -> dict:\n",
    "    trial_path = os.path.join(logdir, trial_name)\n",
    "    with open(trial_path) as f:\n",
    "        trial_dict = json.load(f)\n",
    "\n",
    "    for k, v in trial_dict.items():\n",
    "        if isinstance(v, list):\n",
    "            trial_dict[k] = np.array(v)\n",
    "    \n",
    "    return trial_dict"
   ]
  },
  {
   "cell_type": "code",
   "execution_count": null,
   "metadata": {},
   "outputs": [],
   "source": [
    "trial_dict = load_trials(logdir, 'trial_0.json')"
   ]
  },
  {
   "cell_type": "code",
   "execution_count": null,
   "metadata": {},
   "outputs": [],
   "source": [
    "def plot_trial_results(trial_dict: dict):\n",
    "    \"\"\" Plot a sample of clone sizes evolution with training step\n",
    "\n",
    "    :param trial_dict: dictionary of logged values during learning\n",
    "    :type trial_dict: dict\n",
    "    \"\"\"\n",
    "\n",
    "    sample_idx = np.random.choice(trial_dict['clone_size'].shape[0], 50)\n",
    "    # clone_size_sample = trial_dict['clone_size'][sample_idx, :]\n",
    "\n",
    "    epochs = np.arange(1, trial_dict['clone_size'].shape[1]+1)\n",
    "    fig, ax = plt.subplots(figsize=(7, 10), ncols=1, nrows=2)\n",
    "\n",
    "    # clone size v epochs\n",
    "    ax = ax.flatten()\n",
    "    for i in sample_idx:\n",
    "        ax[0].plot(epochs, trial_dict['clone_size'][i, :])\n",
    "    \n",
    "    ax[0].set_xlabel('epochs (x100)')\n",
    "    ax[0].set_ylabel('normalized clone size')\n",
    "\n",
    "    # reward v epochs\n",
    "    ax[1].plot(epochs, trial_dict['reward'])\n",
    "    ax[1].set_xlabel('epochs (x100)')\n",
    "    ax[1].set_ylabel('reward')\n",
    "\n",
    "    plt.show()\n",
    "\n",
    "plot_trial_results(trial_dict)"
   ]
  },
  {
   "cell_type": "code",
   "execution_count": null,
   "metadata": {},
   "outputs": [],
   "source": []
  }
 ],
 "metadata": {
  "kernelspec": {
   "display_name": "Python 3.8.13 ('geometric')",
   "language": "python",
   "name": "python3"
  },
  "language_info": {
   "codemirror_mode": {
    "name": "ipython",
    "version": 3
   },
   "file_extension": ".py",
   "mimetype": "text/x-python",
   "name": "python",
   "nbconvert_exporter": "python",
   "pygments_lexer": "ipython3",
   "version": "3.8.13"
  },
  "orig_nbformat": 4,
  "vscode": {
   "interpreter": {
    "hash": "dbe6e78718480fd4a797c3d57bfe3d620b9d15ec99602494092bcd3ca9a2fb23"
   }
  }
 },
 "nbformat": 4,
 "nbformat_minor": 2
}
